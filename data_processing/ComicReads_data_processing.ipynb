{
 "cells": [
  {
   "cell_type": "markdown",
   "metadata": {},
   "source": [
    "# 1. Define Data Scope - Comics\n",
    "## - image is .jpg\n",
    "## - book only has one author"
   ]
  },
  {
   "cell_type": "code",
   "execution_count": 2,
   "metadata": {},
   "outputs": [],
   "source": [
    "import pandas as pd"
   ]
  },
  {
   "cell_type": "code",
   "execution_count": 1,
   "metadata": {
    "scrolled": true
   },
   "outputs": [
    {
     "ename": "MemoryError",
     "evalue": "",
     "output_type": "error",
     "traceback": [
      "\u001b[1;31m---------------------------------------------------------------------------\u001b[0m",
      "\u001b[1;31mMemoryError\u001b[0m                               Traceback (most recent call last)",
      "\u001b[1;32m<ipython-input-1-b57c9c653b03>\u001b[0m in \u001b[0;36m<module>\u001b[1;34m\u001b[0m\n\u001b[0;32m      1\u001b[0m \u001b[1;32mimport\u001b[0m \u001b[0mpandas\u001b[0m \u001b[1;32mas\u001b[0m \u001b[0mpd\u001b[0m\u001b[1;33m\u001b[0m\u001b[1;33m\u001b[0m\u001b[0m\n\u001b[0;32m      2\u001b[0m \u001b[1;33m\u001b[0m\u001b[0m\n\u001b[1;32m----> 3\u001b[1;33m \u001b[0mdf_books\u001b[0m \u001b[1;33m=\u001b[0m \u001b[0mpd\u001b[0m\u001b[1;33m.\u001b[0m\u001b[0mread_json\u001b[0m\u001b[1;33m(\u001b[0m\u001b[1;34m'goodreads_books_comics_graphic.json'\u001b[0m\u001b[1;33m,\u001b[0m \u001b[0mlines\u001b[0m\u001b[1;33m=\u001b[0m\u001b[1;32mTrue\u001b[0m\u001b[1;33m)\u001b[0m\u001b[1;33m\u001b[0m\u001b[1;33m\u001b[0m\u001b[0m\n\u001b[0m\u001b[0;32m      4\u001b[0m \u001b[0mdf_authors\u001b[0m \u001b[1;33m=\u001b[0m \u001b[0mpd\u001b[0m\u001b[1;33m.\u001b[0m\u001b[0mread_csv\u001b[0m\u001b[1;33m(\u001b[0m\u001b[1;34m'author_dataset.csv'\u001b[0m\u001b[1;33m)\u001b[0m\u001b[1;33m\u001b[0m\u001b[1;33m\u001b[0m\u001b[0m\n\u001b[0;32m      5\u001b[0m \u001b[0mdf_reviews\u001b[0m \u001b[1;33m=\u001b[0m \u001b[0mpd\u001b[0m\u001b[1;33m.\u001b[0m\u001b[0mread_json\u001b[0m\u001b[1;33m(\u001b[0m\u001b[1;34m'goodreads_reviews_comics_graphic.json'\u001b[0m\u001b[1;33m,\u001b[0m \u001b[0mlines\u001b[0m\u001b[1;33m=\u001b[0m\u001b[1;32mTrue\u001b[0m\u001b[1;33m)\u001b[0m\u001b[1;33m\u001b[0m\u001b[1;33m\u001b[0m\u001b[0m\n",
      "\u001b[1;32mD:\\ProgramData\\Anaconda3\\lib\\site-packages\\pandas\\util\\_decorators.py\u001b[0m in \u001b[0;36mwrapper\u001b[1;34m(*args, **kwargs)\u001b[0m\n\u001b[0;32m    197\u001b[0m                 \u001b[1;32melse\u001b[0m\u001b[1;33m:\u001b[0m\u001b[1;33m\u001b[0m\u001b[1;33m\u001b[0m\u001b[0m\n\u001b[0;32m    198\u001b[0m                     \u001b[0mkwargs\u001b[0m\u001b[1;33m[\u001b[0m\u001b[0mnew_arg_name\u001b[0m\u001b[1;33m]\u001b[0m \u001b[1;33m=\u001b[0m \u001b[0mnew_arg_value\u001b[0m\u001b[1;33m\u001b[0m\u001b[1;33m\u001b[0m\u001b[0m\n\u001b[1;32m--> 199\u001b[1;33m             \u001b[1;32mreturn\u001b[0m \u001b[0mfunc\u001b[0m\u001b[1;33m(\u001b[0m\u001b[1;33m*\u001b[0m\u001b[0margs\u001b[0m\u001b[1;33m,\u001b[0m \u001b[1;33m**\u001b[0m\u001b[0mkwargs\u001b[0m\u001b[1;33m)\u001b[0m\u001b[1;33m\u001b[0m\u001b[1;33m\u001b[0m\u001b[0m\n\u001b[0m\u001b[0;32m    200\u001b[0m \u001b[1;33m\u001b[0m\u001b[0m\n\u001b[0;32m    201\u001b[0m         \u001b[1;32mreturn\u001b[0m \u001b[0mcast\u001b[0m\u001b[1;33m(\u001b[0m\u001b[0mF\u001b[0m\u001b[1;33m,\u001b[0m \u001b[0mwrapper\u001b[0m\u001b[1;33m)\u001b[0m\u001b[1;33m\u001b[0m\u001b[1;33m\u001b[0m\u001b[0m\n",
      "\u001b[1;32mD:\\ProgramData\\Anaconda3\\lib\\site-packages\\pandas\\util\\_decorators.py\u001b[0m in \u001b[0;36mwrapper\u001b[1;34m(*args, **kwargs)\u001b[0m\n\u001b[0;32m    297\u001b[0m                 )\n\u001b[0;32m    298\u001b[0m                 \u001b[0mwarnings\u001b[0m\u001b[1;33m.\u001b[0m\u001b[0mwarn\u001b[0m\u001b[1;33m(\u001b[0m\u001b[0mmsg\u001b[0m\u001b[1;33m,\u001b[0m \u001b[0mFutureWarning\u001b[0m\u001b[1;33m,\u001b[0m \u001b[0mstacklevel\u001b[0m\u001b[1;33m=\u001b[0m\u001b[0mstacklevel\u001b[0m\u001b[1;33m)\u001b[0m\u001b[1;33m\u001b[0m\u001b[1;33m\u001b[0m\u001b[0m\n\u001b[1;32m--> 299\u001b[1;33m             \u001b[1;32mreturn\u001b[0m \u001b[0mfunc\u001b[0m\u001b[1;33m(\u001b[0m\u001b[1;33m*\u001b[0m\u001b[0margs\u001b[0m\u001b[1;33m,\u001b[0m \u001b[1;33m**\u001b[0m\u001b[0mkwargs\u001b[0m\u001b[1;33m)\u001b[0m\u001b[1;33m\u001b[0m\u001b[1;33m\u001b[0m\u001b[0m\n\u001b[0m\u001b[0;32m    300\u001b[0m \u001b[1;33m\u001b[0m\u001b[0m\n\u001b[0;32m    301\u001b[0m         \u001b[1;32mreturn\u001b[0m \u001b[0mwrapper\u001b[0m\u001b[1;33m\u001b[0m\u001b[1;33m\u001b[0m\u001b[0m\n",
      "\u001b[1;32mD:\\ProgramData\\Anaconda3\\lib\\site-packages\\pandas\\io\\json\\_json.py\u001b[0m in \u001b[0;36mread_json\u001b[1;34m(path_or_buf, orient, typ, dtype, convert_axes, convert_dates, keep_default_dates, numpy, precise_float, date_unit, encoding, lines, chunksize, compression, nrows, storage_options)\u001b[0m\n\u001b[0;32m    561\u001b[0m \u001b[1;33m\u001b[0m\u001b[0m\n\u001b[0;32m    562\u001b[0m     \u001b[1;32mwith\u001b[0m \u001b[0mjson_reader\u001b[0m\u001b[1;33m:\u001b[0m\u001b[1;33m\u001b[0m\u001b[1;33m\u001b[0m\u001b[0m\n\u001b[1;32m--> 563\u001b[1;33m         \u001b[1;32mreturn\u001b[0m \u001b[0mjson_reader\u001b[0m\u001b[1;33m.\u001b[0m\u001b[0mread\u001b[0m\u001b[1;33m(\u001b[0m\u001b[1;33m)\u001b[0m\u001b[1;33m\u001b[0m\u001b[1;33m\u001b[0m\u001b[0m\n\u001b[0m\u001b[0;32m    564\u001b[0m \u001b[1;33m\u001b[0m\u001b[0m\n\u001b[0;32m    565\u001b[0m \u001b[1;33m\u001b[0m\u001b[0m\n",
      "\u001b[1;32mD:\\ProgramData\\Anaconda3\\lib\\site-packages\\pandas\\io\\json\\_json.py\u001b[0m in \u001b[0;36mread\u001b[1;34m(self)\u001b[0m\n\u001b[0;32m    690\u001b[0m                 \u001b[0mdata\u001b[0m \u001b[1;33m=\u001b[0m \u001b[0mensure_str\u001b[0m\u001b[1;33m(\u001b[0m\u001b[0mself\u001b[0m\u001b[1;33m.\u001b[0m\u001b[0mdata\u001b[0m\u001b[1;33m)\u001b[0m\u001b[1;33m\u001b[0m\u001b[1;33m\u001b[0m\u001b[0m\n\u001b[0;32m    691\u001b[0m                 \u001b[0mdata_lines\u001b[0m \u001b[1;33m=\u001b[0m \u001b[0mdata\u001b[0m\u001b[1;33m.\u001b[0m\u001b[0msplit\u001b[0m\u001b[1;33m(\u001b[0m\u001b[1;34m\"\\n\"\u001b[0m\u001b[1;33m)\u001b[0m\u001b[1;33m\u001b[0m\u001b[1;33m\u001b[0m\u001b[0m\n\u001b[1;32m--> 692\u001b[1;33m                 \u001b[0mobj\u001b[0m \u001b[1;33m=\u001b[0m \u001b[0mself\u001b[0m\u001b[1;33m.\u001b[0m\u001b[0m_get_object_parser\u001b[0m\u001b[1;33m(\u001b[0m\u001b[0mself\u001b[0m\u001b[1;33m.\u001b[0m\u001b[0m_combine_lines\u001b[0m\u001b[1;33m(\u001b[0m\u001b[0mdata_lines\u001b[0m\u001b[1;33m)\u001b[0m\u001b[1;33m)\u001b[0m\u001b[1;33m\u001b[0m\u001b[1;33m\u001b[0m\u001b[0m\n\u001b[0m\u001b[0;32m    693\u001b[0m         \u001b[1;32melse\u001b[0m\u001b[1;33m:\u001b[0m\u001b[1;33m\u001b[0m\u001b[1;33m\u001b[0m\u001b[0m\n\u001b[0;32m    694\u001b[0m             \u001b[0mobj\u001b[0m \u001b[1;33m=\u001b[0m \u001b[0mself\u001b[0m\u001b[1;33m.\u001b[0m\u001b[0m_get_object_parser\u001b[0m\u001b[1;33m(\u001b[0m\u001b[0mself\u001b[0m\u001b[1;33m.\u001b[0m\u001b[0mdata\u001b[0m\u001b[1;33m)\u001b[0m\u001b[1;33m\u001b[0m\u001b[1;33m\u001b[0m\u001b[0m\n",
      "\u001b[1;32mD:\\ProgramData\\Anaconda3\\lib\\site-packages\\pandas\\io\\json\\_json.py\u001b[0m in \u001b[0;36m_get_object_parser\u001b[1;34m(self, json)\u001b[0m\n\u001b[0;32m    714\u001b[0m         \u001b[0mobj\u001b[0m \u001b[1;33m=\u001b[0m \u001b[1;32mNone\u001b[0m\u001b[1;33m\u001b[0m\u001b[1;33m\u001b[0m\u001b[0m\n\u001b[0;32m    715\u001b[0m         \u001b[1;32mif\u001b[0m \u001b[0mtyp\u001b[0m \u001b[1;33m==\u001b[0m \u001b[1;34m\"frame\"\u001b[0m\u001b[1;33m:\u001b[0m\u001b[1;33m\u001b[0m\u001b[1;33m\u001b[0m\u001b[0m\n\u001b[1;32m--> 716\u001b[1;33m             \u001b[0mobj\u001b[0m \u001b[1;33m=\u001b[0m \u001b[0mFrameParser\u001b[0m\u001b[1;33m(\u001b[0m\u001b[0mjson\u001b[0m\u001b[1;33m,\u001b[0m \u001b[1;33m**\u001b[0m\u001b[0mkwargs\u001b[0m\u001b[1;33m)\u001b[0m\u001b[1;33m.\u001b[0m\u001b[0mparse\u001b[0m\u001b[1;33m(\u001b[0m\u001b[1;33m)\u001b[0m\u001b[1;33m\u001b[0m\u001b[1;33m\u001b[0m\u001b[0m\n\u001b[0m\u001b[0;32m    717\u001b[0m \u001b[1;33m\u001b[0m\u001b[0m\n\u001b[0;32m    718\u001b[0m         \u001b[1;32mif\u001b[0m \u001b[0mtyp\u001b[0m \u001b[1;33m==\u001b[0m \u001b[1;34m\"series\"\u001b[0m \u001b[1;32mor\u001b[0m \u001b[0mobj\u001b[0m \u001b[1;32mis\u001b[0m \u001b[1;32mNone\u001b[0m\u001b[1;33m:\u001b[0m\u001b[1;33m\u001b[0m\u001b[1;33m\u001b[0m\u001b[0m\n",
      "\u001b[1;32mD:\\ProgramData\\Anaconda3\\lib\\site-packages\\pandas\\io\\json\\_json.py\u001b[0m in \u001b[0;36mparse\u001b[1;34m(self)\u001b[0m\n\u001b[0;32m    829\u001b[0m \u001b[1;33m\u001b[0m\u001b[0m\n\u001b[0;32m    830\u001b[0m         \u001b[1;32melse\u001b[0m\u001b[1;33m:\u001b[0m\u001b[1;33m\u001b[0m\u001b[1;33m\u001b[0m\u001b[0m\n\u001b[1;32m--> 831\u001b[1;33m             \u001b[0mself\u001b[0m\u001b[1;33m.\u001b[0m\u001b[0m_parse_no_numpy\u001b[0m\u001b[1;33m(\u001b[0m\u001b[1;33m)\u001b[0m\u001b[1;33m\u001b[0m\u001b[1;33m\u001b[0m\u001b[0m\n\u001b[0m\u001b[0;32m    832\u001b[0m \u001b[1;33m\u001b[0m\u001b[0m\n\u001b[0;32m    833\u001b[0m         \u001b[1;32mif\u001b[0m \u001b[0mself\u001b[0m\u001b[1;33m.\u001b[0m\u001b[0mobj\u001b[0m \u001b[1;32mis\u001b[0m \u001b[1;32mNone\u001b[0m\u001b[1;33m:\u001b[0m\u001b[1;33m\u001b[0m\u001b[1;33m\u001b[0m\u001b[0m\n",
      "\u001b[1;32mD:\\ProgramData\\Anaconda3\\lib\\site-packages\\pandas\\io\\json\\_json.py\u001b[0m in \u001b[0;36m_parse_no_numpy\u001b[1;34m(self)\u001b[0m\n\u001b[0;32m   1077\u001b[0m         \u001b[1;32mif\u001b[0m \u001b[0morient\u001b[0m \u001b[1;33m==\u001b[0m \u001b[1;34m\"columns\"\u001b[0m\u001b[1;33m:\u001b[0m\u001b[1;33m\u001b[0m\u001b[1;33m\u001b[0m\u001b[0m\n\u001b[0;32m   1078\u001b[0m             self.obj = DataFrame(\n\u001b[1;32m-> 1079\u001b[1;33m                 \u001b[0mloads\u001b[0m\u001b[1;33m(\u001b[0m\u001b[0mjson\u001b[0m\u001b[1;33m,\u001b[0m \u001b[0mprecise_float\u001b[0m\u001b[1;33m=\u001b[0m\u001b[0mself\u001b[0m\u001b[1;33m.\u001b[0m\u001b[0mprecise_float\u001b[0m\u001b[1;33m)\u001b[0m\u001b[1;33m,\u001b[0m \u001b[0mdtype\u001b[0m\u001b[1;33m=\u001b[0m\u001b[1;32mNone\u001b[0m\u001b[1;33m\u001b[0m\u001b[1;33m\u001b[0m\u001b[0m\n\u001b[0m\u001b[0;32m   1080\u001b[0m             )\n\u001b[0;32m   1081\u001b[0m         \u001b[1;32melif\u001b[0m \u001b[0morient\u001b[0m \u001b[1;33m==\u001b[0m \u001b[1;34m\"split\"\u001b[0m\u001b[1;33m:\u001b[0m\u001b[1;33m\u001b[0m\u001b[1;33m\u001b[0m\u001b[0m\n",
      "\u001b[1;31mMemoryError\u001b[0m: "
     ]
    }
   ],
   "source": [
    "\n",
    "\n",
    "df_books = pd.read_json('goodreads_books_comics_graphic.json', lines=True)\n",
    "df_authors = pd.read_csv('author_dataset.csv')\n",
    "df_reviews = pd.read_json('goodreads_reviews_comics_graphic.json', lines=True)\n",
    "df_interactions = pd.read_json('goodreads_interactions_comics_graphic.json', lines=True)"
   ]
  },
  {
   "cell_type": "code",
   "execution_count": 6,
   "metadata": {},
   "outputs": [],
   "source": [
    "df_books['image_type'] = df_books.image_url.apply(lambda x: 'jpg' if 'jpg' in x else 'png')\n",
    "df_authors['image_type'] = df_authors.image_url.apply(lambda x: 'jpg' if 'jpg' in x else 'png')\n",
    "\n",
    "df_books['author_count'] = df_books.authors.apply(lambda x: len(x))"
   ]
  },
  {
   "cell_type": "code",
   "execution_count": 29,
   "metadata": {},
   "outputs": [
    {
     "name": "stdout",
     "output_type": "stream",
     "text": [
      "Books: \n",
      "jpg    57394\n",
      "png    32017\n",
      "Name: image_type, dtype: int64\n",
      " \n",
      "jpg    0.641912\n",
      "png    0.358088\n",
      "Name: image_type, dtype: float64\n",
      "--------------------------------------------------\n",
      "Authors: \n",
      "png    125393\n",
      "jpg     84124\n",
      "Name: image_type, dtype: int64\n",
      " \n",
      "png    0.598486\n",
      "jpg    0.401514\n",
      "Name: image_type, dtype: float64\n"
     ]
    }
   ],
   "source": [
    "print(\"Books: \")\n",
    "print(df_books.image_type.value_counts())\n",
    "print(\" \")\n",
    "print(df_books.image_type.value_counts(normalize=True))\n",
    "print(\"-\"*50)\n",
    "print(\"Authors: \")\n",
    "print(df_authors.image_type.value_counts())\n",
    "print(\" \")\n",
    "print(df_authors.image_type.value_counts(normalize=True))"
   ]
  },
  {
   "cell_type": "code",
   "execution_count": 37,
   "metadata": {},
   "outputs": [],
   "source": [
    "df_books_filtered = df_books[(df_books.image_type=='jpg')&(df_books.author_count==1)][['book_id','authors']]\n",
    "\n",
    "df_books_filtered['author_id'] = df_books_filtered.authors.apply(lambda x: int(x[0]['author_id']))\n",
    "\n",
    "df_authors_filtered = df_authors[(df_authors.image_type=='jpg')][['authorid','name']]\n",
    "\n",
    "df_final = df_books_filtered.merge(df_authors_filtered, how='inner', left_on='author_id', right_on='authorid')"
   ]
  },
  {
   "cell_type": "code",
   "execution_count": 67,
   "metadata": {},
   "outputs": [],
   "source": [
    "books_list = df_final.book_id.unique().tolist()\n",
    "authors_list = df_final.authorid.unique().tolist()"
   ]
  },
  {
   "cell_type": "code",
   "execution_count": 70,
   "metadata": {},
   "outputs": [],
   "source": [
    "df_reviews_filter = df_reviews[df_reviews.book_id.isin(books_list)]\n",
    "\n",
    "df_interactions_filter = df_interactions[df_interactions.book_id.isin(books_list)]\n",
    "\n",
    "df_books_filter = df_books[df_books.book_id.isin(books_list)]\n",
    "\n",
    "df_author_filter = df_authors[df_authors.authorid.isin(authors_list)]"
   ]
  },
  {
   "cell_type": "code",
   "execution_count": 87,
   "metadata": {},
   "outputs": [
    {
     "name": "stdout",
     "output_type": "stream",
     "text": [
      "--------------------------------------------------\n",
      "Original Data Shape:\n",
      " - books:  (89411, 31)\n",
      " - authors: (209517, 21)\n",
      " - reviews: (542338, 11)\n",
      " - interactions: (7347630, 10)\n",
      "--------------------------------------------------\n",
      "Data Shape after filtering:\n",
      " - books:  (16288, 31)\n",
      " - authors: (1920, 21)\n",
      " - reviews: (108323, 11)\n",
      " - interactions: (1426160, 10)\n",
      "--------------------------------------------------\n"
     ]
    }
   ],
   "source": [
    "print(\"-\"*50)\n",
    "print(\"Original Data Shape:\")\n",
    "print(\" - books: \", df_books.shape)\n",
    "print(\" - authors:\", df_authors.shape)\n",
    "print(\" - reviews:\", df_reviews.shape)\n",
    "print(\" - interactions:\", df_interactions.shape)\n",
    "print(\"-\"*50)\n",
    "print(\"Data Shape after filtering:\")\n",
    "print(\" - books: \", df_books_filter.shape)\n",
    "print(\" - authors:\", df_author_filter.shape)\n",
    "print(\" - reviews:\", df_reviews_filter.shape)\n",
    "print(\" - interactions:\", df_interactions_filter.shape)\n",
    "print(\"-\"*50)"
   ]
  },
  {
   "cell_type": "code",
   "execution_count": 89,
   "metadata": {},
   "outputs": [],
   "source": [
    "df_books_filter.to_csv('books.csv', index=False)\n",
    "df_author_filter.to_csv('authors.csv', index=False)\n",
    "df_reviews_filter.to_csv('reviews.csv', index=False)\n",
    "df_interactions_filter.to_csv('interactions.csv', index=False)"
   ]
  },
  {
   "cell_type": "markdown",
   "metadata": {},
   "source": [
    "# 2. Data Processing"
   ]
  },
  {
   "cell_type": "code",
   "execution_count": 3,
   "metadata": {},
   "outputs": [],
   "source": [
    "df_books = pd.read_csv('books.csv')\n",
    "df_authors = pd.read_csv('authors.csv')\n",
    "df_reviews = pd.read_csv('reviews.csv')\n",
    "df_interactions = pd.read_csv('interactions.csv')"
   ]
  },
  {
   "cell_type": "code",
   "execution_count": 4,
   "metadata": {
    "scrolled": true
   },
   "outputs": [
    {
     "name": "stdout",
     "output_type": "stream",
     "text": [
      "books: \n",
      "['isbn', 'text_reviews_count', 'series', 'country_code', 'language_code', 'popular_shelves', 'asin', 'is_ebook', 'average_rating', 'kindle_asin', 'similar_books', 'description', 'format', 'link', 'authors', 'publisher', 'num_pages', 'publication_day', 'isbn13', 'publication_month', 'edition_information', 'publication_year', 'url', 'image_url', 'book_id', 'ratings_count', 'work_id', 'title', 'title_without_series', 'image_type', 'author_count']\n",
      "\n",
      "authors: \n",
      "['authorid', 'name', 'workcount', 'fan_count', 'gender', 'image_url', 'about', 'born', 'died', 'influence', 'average_rate', 'rating_count', 'review_count', 'website', 'twitter', 'genre', 'original_hometown', 'country', 'latitude', 'longitude', 'image_type']\n",
      "\n",
      "reviews: \n",
      "['user_id', 'book_id', 'review_id', 'rating', 'review_text', 'date_added', 'date_updated', 'read_at', 'started_at', 'n_votes', 'n_comments']\n",
      "\n",
      "interactions: \n",
      "['user_id', 'book_id', 'review_id', 'is_read', 'rating', 'review_text_incomplete', 'date_added', 'date_updated', 'read_at', 'started_at']\n",
      "\n"
     ]
    }
   ],
   "source": [
    "list_df = [df_books, df_authors, df_reviews, df_interactions]\n",
    "list_dataset_name = ['books', 'authors', 'reviews', 'interactions']\n",
    "\n",
    "for i in range(len(list_df)):\n",
    "    print(list_dataset_name[i]+\": \")\n",
    "    print(list_df[i].columns.tolist())\n",
    "    print(\"\")"
   ]
  },
  {
   "cell_type": "markdown",
   "metadata": {},
   "source": [
    "## 2.1 remove unrelated columns"
   ]
  },
  {
   "cell_type": "code",
   "execution_count": 6,
   "metadata": {},
   "outputs": [],
   "source": [
    "list_books_col = ['book_id', 'isbn', 'country_code', 'language_code', 'popular_shelves', 'is_ebook', 'average_rating',\n",
    "                  'similar_books', 'description', 'format', 'link', 'authors', 'publisher', 'num_pages', \n",
    "                  'edition_information', 'publication_year', 'image_url', 'text_reviews_count', 'ratings_count', 'title']\n",
    "list_authors_col = ['authorid', 'name', 'workcount', 'fan_count', 'gender', 'image_url', 'about', 'born', \n",
    "                    'died', 'influence', 'average_rate', 'genre', 'original_hometown', 'country', 'latitude', 'longitude']\n",
    "list_reviews_col = ['review_id', 'rating', 'review_text', 'date_added', 'n_votes']\n",
    "list_interactions_col = ['review_id','is_read','rating','date_added']"
   ]
  },
  {
   "cell_type": "code",
   "execution_count": 56,
   "metadata": {},
   "outputs": [],
   "source": [
    "df_books_col_filtered = df_books[list_books_col]\n",
    "df_authors_col_filtered = df_authors[list_authors_col]\n",
    "df_reviews_col_filtered = df_reviews[list_reviews_col]\n",
    "df_interactions_col_filtered = df_interactions[list_interactions_col]"
   ]
  },
  {
   "cell_type": "markdown",
   "metadata": {},
   "source": [
    "## 2.2 check the null percentage"
   ]
  },
  {
   "cell_type": "code",
   "execution_count": 14,
   "metadata": {
    "scrolled": true
   },
   "outputs": [
    {
     "name": "stdout",
     "output_type": "stream",
     "text": [
      "--------------------------------------------------\n",
      "books: \n",
      "book_id                 0.000000\n",
      "isbn                   39.280452\n",
      "country_code            0.000000\n",
      "language_code          22.286346\n",
      "popular_shelves         0.000000\n",
      "is_ebook                0.000000\n",
      "average_rating          0.000000\n",
      "similar_books           0.000000\n",
      "description            13.641945\n",
      "format                 14.912819\n",
      "link                    0.000000\n",
      "authors                 0.000000\n",
      "publisher              11.044941\n",
      "num_pages              18.418468\n",
      "edition_information    92.135314\n",
      "publication_year       10.842338\n",
      "image_url               0.000000\n",
      "text_reviews_count      0.000000\n",
      "ratings_count           0.000000\n",
      "title                   0.000000\n",
      "dtype: float64\n",
      "--------------------------------------------------\n",
      "authors: \n",
      "authorid              0.000000\n",
      "name                  0.000000\n",
      "workcount             0.000000\n",
      "fan_count             0.000000\n",
      "gender                0.000000\n",
      "image_url             0.000000\n",
      "about                17.083333\n",
      "born                 54.010417\n",
      "died                 92.031250\n",
      "influence            92.604167\n",
      "average_rate          0.000000\n",
      "genre                15.833333\n",
      "original_hometown    45.937500\n",
      "country              45.937500\n",
      "latitude             46.041667\n",
      "longitude            46.041667\n",
      "dtype: float64\n",
      "--------------------------------------------------\n",
      "reviews: \n",
      "review_id      0.000000\n",
      "rating         0.000000\n",
      "review_text    0.068314\n",
      "date_added     0.000000\n",
      "n_votes        0.000000\n",
      "dtype: float64\n",
      "--------------------------------------------------\n",
      "interactions: \n",
      "review_id     0.0\n",
      "is_read       0.0\n",
      "rating        0.0\n",
      "date_added    0.0\n",
      "dtype: float64\n"
     ]
    }
   ],
   "source": [
    "list_df_col_filtered = [df_books_col_filtered, df_authors_col_filtered, df_reviews_col_filtered, df_interactions_col_filtered]\n",
    "for i in range(len(list_df)):\n",
    "    print('-'*50)\n",
    "    print(list_dataset_name[i]+\": \")\n",
    "    print(list_df_col_filtered[i].isnull().sum() * 100 / len(list_df_col_filtered[i]))"
   ]
  },
  {
   "cell_type": "markdown",
   "metadata": {},
   "source": [
    "## 2.3 remove columns with high null percentage"
   ]
  },
  {
   "cell_type": "code",
   "execution_count": 57,
   "metadata": {},
   "outputs": [
    {
     "name": "stderr",
     "output_type": "stream",
     "text": [
      "D:\\ProgramData\\Anaconda3\\lib\\site-packages\\pandas\\core\\frame.py:4308: SettingWithCopyWarning: \n",
      "A value is trying to be set on a copy of a slice from a DataFrame\n",
      "\n",
      "See the caveats in the documentation: https://pandas.pydata.org/pandas-docs/stable/user_guide/indexing.html#returning-a-view-versus-a-copy\n",
      "  return super().drop(\n"
     ]
    }
   ],
   "source": [
    "df_books_col_filtered.drop(['edition_information'], axis=1, inplace=True)\n",
    "df_authors_col_filtered.drop(['influence'], axis=1, inplace=True)"
   ]
  },
  {
   "cell_type": "markdown",
   "metadata": {},
   "source": [
    "## 2.4 implement data preprocessing\n",
    "## - impute missing values\n",
    "## - modify data format"
   ]
  },
  {
   "cell_type": "markdown",
   "metadata": {},
   "source": [
    "### 2.4.1 Books Dataset"
   ]
  },
  {
   "cell_type": "code",
   "execution_count": 60,
   "metadata": {},
   "outputs": [],
   "source": [
    "# fill null values\n",
    "df_books_col_filtered.isbn.fillna(-1, inplace=True)\n",
    "df_books_col_filtered.language_code.fillna('unknown', inplace=True)\n",
    "df_books_col_filtered.description.fillna('unknown', inplace=True)\n",
    "df_books_col_filtered.format.fillna('unknown', inplace=True)\n",
    "df_books_col_filtered.publisher.fillna('unknown', inplace=True)\n",
    "df_books_col_filtered.num_pages.fillna(-1, inplace=True)\n",
    "df_books_col_filtered.publication_year.fillna(-1, inplace=True)\n",
    "\n",
    "# convert data types of some columns\n",
    "df_books_col_filtered.isbn = df_books_col_filtered.isbn.astype('str')\n",
    "df_books_col_filtered.num_pages = df_books_col_filtered.num_pages.astype('int64').astype('str')\n",
    "df_books_col_filtered.publication_year = df_books_col_filtered.publication_year.astype('int64').astype('str')\n",
    "\n",
    "# replace -1 with unknown\n",
    "df_books_col_filtered.isbn = df_books_col_filtered.isbn.apply(lambda x: 'unknown' if x=='-1' else x)\n",
    "df_books_col_filtered.num_pages = df_books_col_filtered.num_pages.apply(lambda x: 'unknown' if x=='-1' else x)\n",
    "df_books_col_filtered.publication_year = df_books_col_filtered.publication_year.apply(lambda x: 'unknown' if x=='-1' else x)\n",
    "\n",
    "# extract author_id\n",
    "df_books_col_filtered.authors = df_books_col_filtered.authors.apply(lambda x: x.replace('\\'','').split(',')[0].split(': ')[1])"
   ]
  },
  {
   "cell_type": "code",
   "execution_count": 74,
   "metadata": {
    "scrolled": true
   },
   "outputs": [
    {
     "data": {
      "text/plain": [
       "book_id                 int64\n",
       "isbn                   object\n",
       "country_code           object\n",
       "language_code          object\n",
       "popular_shelves        object\n",
       "is_ebook                 bool\n",
       "average_rating        float64\n",
       "similar_books          object\n",
       "description            object\n",
       "format                 object\n",
       "link                   object\n",
       "authors                object\n",
       "publisher              object\n",
       "num_pages              object\n",
       "publication_year       object\n",
       "image_url              object\n",
       "text_reviews_count      int64\n",
       "ratings_count           int64\n",
       "title                  object\n",
       "dtype: object"
      ]
     },
     "execution_count": 74,
     "metadata": {},
     "output_type": "execute_result"
    }
   ],
   "source": [
    "df_books_col_filtered.dtypes"
   ]
  },
  {
   "cell_type": "markdown",
   "metadata": {},
   "source": [
    "### 2.4.2 Authors Dataset"
   ]
  },
  {
   "cell_type": "code",
   "execution_count": 80,
   "metadata": {},
   "outputs": [
    {
     "name": "stderr",
     "output_type": "stream",
     "text": [
      "D:\\ProgramData\\Anaconda3\\lib\\site-packages\\pandas\\core\\series.py:4463: SettingWithCopyWarning: \n",
      "A value is trying to be set on a copy of a slice from a DataFrame\n",
      "\n",
      "See the caveats in the documentation: https://pandas.pydata.org/pandas-docs/stable/user_guide/indexing.html#returning-a-view-versus-a-copy\n",
      "  return super().fillna(\n"
     ]
    }
   ],
   "source": [
    "# fill null values\n",
    "df_authors_col_filtered.about.fillna('unknown', inplace=True)\n",
    "df_authors_col_filtered.born.fillna('unknown', inplace=True)\n",
    "df_authors_col_filtered.died.fillna('unknown', inplace=True)\n",
    "df_authors_col_filtered.genre.fillna('unknown', inplace=True)\n",
    "df_authors_col_filtered.original_hometown.fillna('unknown', inplace=True)\n",
    "df_authors_col_filtered.country.fillna('unknown', inplace=True)"
   ]
  },
  {
   "cell_type": "code",
   "execution_count": 82,
   "metadata": {
    "scrolled": true
   },
   "outputs": [
    {
     "data": {
      "text/plain": [
       "authorid               int64\n",
       "name                  object\n",
       "workcount              int64\n",
       "fan_count              int64\n",
       "gender                object\n",
       "image_url             object\n",
       "about                 object\n",
       "born                  object\n",
       "died                  object\n",
       "average_rate         float64\n",
       "genre                 object\n",
       "original_hometown     object\n",
       "country               object\n",
       "latitude             float64\n",
       "longitude            float64\n",
       "dtype: object"
      ]
     },
     "execution_count": 82,
     "metadata": {},
     "output_type": "execute_result"
    }
   ],
   "source": [
    "df_authors_col_filtered.dtypes"
   ]
  },
  {
   "cell_type": "markdown",
   "metadata": {},
   "source": [
    "### 2.4.3 Reviews Dataset"
   ]
  },
  {
   "cell_type": "code",
   "execution_count": 88,
   "metadata": {},
   "outputs": [
    {
     "name": "stderr",
     "output_type": "stream",
     "text": [
      "D:\\ProgramData\\Anaconda3\\lib\\site-packages\\pandas\\core\\series.py:4463: SettingWithCopyWarning: \n",
      "A value is trying to be set on a copy of a slice from a DataFrame\n",
      "\n",
      "See the caveats in the documentation: https://pandas.pydata.org/pandas-docs/stable/user_guide/indexing.html#returning-a-view-versus-a-copy\n",
      "  return super().fillna(\n"
     ]
    }
   ],
   "source": [
    "# fill null values\n",
    "df_reviews_col_filtered.review_text.fillna('unknown', inplace=True)"
   ]
  },
  {
   "cell_type": "code",
   "execution_count": 89,
   "metadata": {},
   "outputs": [
    {
     "data": {
      "text/plain": [
       "review_id      object\n",
       "rating          int64\n",
       "review_text    object\n",
       "date_added     object\n",
       "n_votes         int64\n",
       "dtype: object"
      ]
     },
     "execution_count": 89,
     "metadata": {},
     "output_type": "execute_result"
    }
   ],
   "source": [
    "df_reviews_col_filtered.dtypes"
   ]
  },
  {
   "cell_type": "markdown",
   "metadata": {},
   "source": [
    "# 3. Export the Final Data"
   ]
  },
  {
   "cell_type": "code",
   "execution_count": 93,
   "metadata": {},
   "outputs": [
    {
     "name": "stdout",
     "output_type": "stream",
     "text": [
      "Data Shape:\n",
      " - books:  (16288, 19)\n",
      " - authors:  (1920, 15)\n",
      " - reviews: (108323, 5)\n",
      " - interactions: (1426160, 4)\n"
     ]
    }
   ],
   "source": [
    "print(\"Data Shape:\")\n",
    "print(\" - books: \", df_books_col_filtered.shape)\n",
    "print(\" - authors: \", df_authors_col_filtered.shape)\n",
    "print(\" - reviews:\", df_reviews_col_filtered.shape)\n",
    "print(\" - interactions:\", df_interactions_col_filtered.shape)"
   ]
  },
  {
   "cell_type": "code",
   "execution_count": null,
   "metadata": {},
   "outputs": [],
   "source": [
    "for i in range(len(list_df)):\n",
    "    print(list_dataset_name[i]+\": \")\n",
    "    print(list_df_col_filtered[i].isnull().sum() * 100 / len(list_df_col_filtered[i]))\n",
    "    list_df_col_filtered[i].to_csv(list_dataset_name[i]+'_final_dateset.csv', index=False)"
   ]
  }
 ],
 "metadata": {
  "kernelspec": {
   "display_name": "Python 3",
   "language": "python",
   "name": "python3"
  },
  "language_info": {
   "codemirror_mode": {
    "name": "ipython",
    "version": 3
   },
   "file_extension": ".py",
   "mimetype": "text/x-python",
   "name": "python",
   "nbconvert_exporter": "python",
   "pygments_lexer": "ipython3",
   "version": "3.8.8"
  },
  "vscode": {
   "interpreter": {
    "hash": "e42634819b8c191a5d07eaf23810ff32516dd8d3875f28ec3e488928fbd3c187"
   }
  }
 },
 "nbformat": 4,
 "nbformat_minor": 2
}
